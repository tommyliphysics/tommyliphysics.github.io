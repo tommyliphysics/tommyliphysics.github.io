{
 "cells": [
  {
   "cell_type": "code",
   "execution_count": 3,
   "id": "6504cf45-cd5c-45a6-999c-181a1ba7455c",
   "metadata": {},
   "outputs": [
    {
     "name": "stdout",
     "output_type": "stream",
     "text": [
      "MoviePy - Building file aidetector.gif with imageio.\n"
     ]
    },
    {
     "name": "stderr",
     "output_type": "stream",
     "text": [
      "                                                                                \r"
     ]
    }
   ],
   "source": [
    "from moviepy.editor import *\n",
    "\n",
    "# Load the video\n",
    "video_clip = VideoFileClip(\"aidetector.mp4\")\n",
    "\n",
    "# Convert the video to a GIF\n",
    "gif_clip = video_clip.to_gif(\"aidetector.gif\")"
   ]
  },
  {
   "cell_type": "code",
   "execution_count": null,
   "id": "58cdfded-a4a5-43c3-822b-c8bb1fb14b92",
   "metadata": {},
   "outputs": [],
   "source": []
  }
 ],
 "metadata": {
  "kernelspec": {
   "display_name": "Python 3 (ipykernel)",
   "language": "python",
   "name": "python3"
  },
  "language_info": {
   "codemirror_mode": {
    "name": "ipython",
    "version": 3
   },
   "file_extension": ".py",
   "mimetype": "text/x-python",
   "name": "python",
   "nbconvert_exporter": "python",
   "pygments_lexer": "ipython3",
   "version": "3.12.3"
  }
 },
 "nbformat": 4,
 "nbformat_minor": 5
}
